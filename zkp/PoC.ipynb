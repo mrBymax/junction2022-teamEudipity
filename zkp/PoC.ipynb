{
 "cells": [
  {
   "cell_type": "markdown",
   "id": "3809029b",
   "metadata": {},
   "source": [
    "# Voting algorithm PoC"
   ]
  },
  {
   "cell_type": "code",
   "execution_count": 1,
   "id": "0dad3f05",
   "metadata": {},
   "outputs": [],
   "source": [
    "import random\n",
    "from hashlib import sha256\n",
    "from ecdsa import SigningKey"
   ]
  },
  {
   "cell_type": "code",
   "execution_count": 2,
   "id": "26473424",
   "metadata": {},
   "outputs": [],
   "source": [
    "class Wallet:\n",
    "    def __init__(self, name, balance):\n",
    "        self.name = name\n",
    "        self.balance = balance\n",
    "\n",
    "    def __str__(self):\n",
    "        return f\"{self.name} has {self.balance}\"\n",
    "\n",
    "    def send(self, to, amount):\n",
    "        self.balance -= amount\n",
    "        to.balance += amount\n",
    "\n",
    "    def receive(self, from_, amount):\n",
    "        self.balance += amount\n",
    "        from_.balance -= amount"
   ]
  },
  {
   "cell_type": "code",
   "execution_count": 3,
   "id": "149c61e0",
   "metadata": {},
   "outputs": [],
   "source": [
    "class Candidate(Wallet):\n",
    "    def __init__(self, name, balance, votes=0):\n",
    "        super().__init__(name, balance)\n",
    "        self.votes = votes\n",
    "\n",
    "    def __str__(self):\n",
    "        return f\"{self.name} has {self.votes} votes\"\n",
    "\n",
    "    def vote(self, to):\n",
    "        self.votes += 1\n",
    "        to.votes -= 1\n",
    "    \n",
    "    def get_id(self):\n",
    "        return sha256(self.name.encode()).hexdigest()"
   ]
  },
  {
   "cell_type": "code",
   "execution_count": 4,
   "id": "7fe0479d",
   "metadata": {},
   "outputs": [],
   "source": [
    "class Voter(Wallet):\n",
    "    def __init__(self, name, balance, votes=1, voted=False):\n",
    "        super().__init__(name, balance)\n",
    "        self.votes = votes\n",
    "        self._private_key = SigningKey.generate()\n",
    "\n",
    "    def __str__(self):\n",
    "        return f\"{self.name} has {self.balance} and {self.votes} votes\"\n",
    "\n",
    "    def vote(self, to):\n",
    "        self.votes -= 1\n",
    "        to.votes += 1\n",
    "    \n",
    "    def get_id(self):\n",
    "        return sha256(self.name.encode()).hexdigest()\n",
    "\n",
    "    def sign_vote(self, who_I_vote):\n",
    "        self.vote(who_I_vote)\n",
    "        self.who_I_voted = who_I_vote.get_id().encode()\n",
    "        return self._private_key.sign(self.who_I_voted)\n",
    "\n",
    "    def validate_vote(self, vote):\n",
    "        try:\n",
    "            self._private_key.verifying_key.verify(vote, self.who_I_voted)\n",
    "            return True\n",
    "        except Exception as e:\n",
    "            return False"
   ]
  },
  {
   "cell_type": "code",
   "execution_count": 5,
   "id": "1d33ed50",
   "metadata": {},
   "outputs": [],
   "source": [
    "class BlockVote():\n",
    "    def __init__(self, voter, token, who_I_vote, weight):\n",
    "        self.Voter = voter\n",
    "        self.Token = token\n",
    "        self.Who_I_vote = who_I_vote\n",
    "        self.Weight = weight"
   ]
  },
  {
   "cell_type": "code",
   "execution_count": 6,
   "id": "712cc941",
   "metadata": {},
   "outputs": [],
   "source": [
    "class VotingAlgorithm:\n",
    "    def __init__(self, candidates, voters, chain):\n",
    "        self.candidates = candidates\n",
    "        self.voters = voters\n",
    "        self.chain = chain\n",
    "\n",
    "    def __str__(self):\n",
    "        return f\"Candidates: {self.candidates} and Voters: {self.voters}\"\n",
    "\n",
    "    def vote(self):\n",
    "        for voter in self.voters:\n",
    "            who_I_vote = random.choice(self.candidates)\n",
    "            # Signature\n",
    "            bv = BlockVote(voter.get_id(), 1, voter.sign_vote(who_I_vote), 1)\n",
    "            self.chain.append(bv)\n",
    "\n",
    "    def show_results(self):\n",
    "        for candidate in self.candidates:\n",
    "            print(candidate)"
   ]
  },
  {
   "cell_type": "code",
   "execution_count": 7,
   "id": "156c2286",
   "metadata": {},
   "outputs": [],
   "source": [
    "def get_candidates():\n",
    "    return [\n",
    "        Candidate(\"Alice\", 0),\n",
    "        Candidate(\"Bob\", 0),\n",
    "        Candidate(\"Carol\", 0),\n",
    "        Candidate(\"Dave\", 0),\n",
    "    ]"
   ]
  },
  {
   "cell_type": "code",
   "execution_count": 8,
   "id": "47a10ba2",
   "metadata": {},
   "outputs": [],
   "source": [
    "candidates = get_candidates()\n",
    "# Create the voters\n",
    "voters = [\n",
    "    Voter(\"Eve\", 1),\n",
    "    Voter(\"Frank\", 1),\n",
    "    Voter(\"Grace\", 1),\n",
    "    Voter(\"Hank\", 1),\n",
    "    Voter(\"Iris\", 1),\n",
    "    Voter(\"John\", 1),\n",
    "    Voter(\"Kathy\", 1),\n",
    "    Voter(\"Luke\", 1),\n",
    "    Voter(\"Mallory\", 1),\n",
    "    Voter(\"Nate\", 1),\n",
    "]\n",
    "\n",
    "chain = []\n",
    "# Create the voting algorithm\n",
    "voting_algorithm = VotingAlgorithm(candidates, voters, chain)\n",
    "# Run the voting algorithm\n",
    "voting_algorithm.vote()"
   ]
  },
  {
   "cell_type": "code",
   "execution_count": 9,
   "id": "5fd8d307",
   "metadata": {},
   "outputs": [
    {
     "name": "stdout",
     "output_type": "stream",
     "text": [
      "Alice has 3 votes\n",
      "Bob has 3 votes\n",
      "Carol has 3 votes\n",
      "Dave has 1 votes\n"
     ]
    }
   ],
   "source": [
    "voting_algorithm.show_results()"
   ]
  },
  {
   "cell_type": "markdown",
   "id": "2b332c1d",
   "metadata": {},
   "source": [
    "# Digital signature of the votation"
   ]
  },
  {
   "cell_type": "code",
   "execution_count": 11,
   "id": "50d6dc4c",
   "metadata": {},
   "outputs": [
    {
     "name": "stdout",
     "output_type": "stream",
     "text": [
      "True\n",
      "False\n",
      "False\n",
      "False\n",
      "False\n",
      "False\n",
      "False\n",
      "False\n",
      "False\n",
      "False\n"
     ]
    }
   ],
   "source": [
    "for voter in voters:\n",
    "    print(voter.validate_vote(chain[0].Who_I_vote))"
   ]
  },
  {
   "cell_type": "code",
   "execution_count": null,
   "id": "ef4580a1",
   "metadata": {},
   "outputs": [],
   "source": []
  }
 ],
 "metadata": {
  "kernelspec": {
   "display_name": "Python 3.9.12 ('base')",
   "language": "python",
   "name": "python3"
  },
  "language_info": {
   "codemirror_mode": {
    "name": "ipython",
    "version": 3
   },
   "file_extension": ".py",
   "mimetype": "text/x-python",
   "name": "python",
   "nbconvert_exporter": "python",
   "pygments_lexer": "ipython3",
   "version": "3.9.12"
  },
  "vscode": {
   "interpreter": {
    "hash": "2f70c2c6f75f001c2435d8036b6cc1833b789af896ffe22ab30918cedbc10c86"
   }
  }
 },
 "nbformat": 4,
 "nbformat_minor": 5
}
